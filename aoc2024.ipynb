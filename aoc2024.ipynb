{
 "cells": [
  {
   "cell_type": "markdown",
   "id": "f6509e01",
   "metadata": {},
   "source": [
    "# AOC 2024\n",
    "\n",
    "    Welcome to the Advent of Code 2024!"
   ]
  },
  {
   "cell_type": "markdown",
   "id": "34c4327c",
   "metadata": {},
   "source": [
    "## Basic configuration"
   ]
  },
  {
   "cell_type": "code",
   "execution_count": null,
   "id": "67938f34",
   "metadata": {},
   "outputs": [],
   "source": [
    "!pip install aocd"
   ]
  },
  {
   "cell_type": "code",
   "execution_count": null,
   "id": "f9d98ade",
   "metadata": {},
   "outputs": [],
   "source": [
    "import os\n",
    "\n",
    "os.environ['AOC_SESSION'] = open('session.txt').read().strip()\n",
    "\n",
    "from aocd import submit\n",
    "from aocd.models import Puzzle"
   ]
  },
  {
   "cell_type": "markdown",
   "id": "1867ef79",
   "metadata": {},
   "source": [
    "## Day 23\n",
    "https://adventofcode.com/2023/day/23\n",
    "### Part 1"
   ]
  },
  {
   "cell_type": "code",
   "execution_count": null,
   "id": "8544afbc",
   "metadata": {},
   "outputs": [],
   "source": [
    "puzzle = Puzzle(2023, 23)"
   ]
  },
  {
   "cell_type": "markdown",
   "id": "db2f69ab",
   "metadata": {},
   "source": [
    "## Day 22\n",
    "https://adventofcode.com/2023/day/22\n",
    "### Part 1"
   ]
  },
  {
   "cell_type": "code",
   "execution_count": null,
   "id": "a56e96ca",
   "metadata": {},
   "outputs": [],
   "source": [
    "puzzle = Puzzle(2023, 22)"
   ]
  },
  {
   "cell_type": "markdown",
   "id": "6776ae62",
   "metadata": {},
   "source": [
    "## Day 21\n",
    "https://adventofcode.com/2023/day/21\n",
    "### Part 1"
   ]
  },
  {
   "cell_type": "code",
   "execution_count": null,
   "id": "3fee5165",
   "metadata": {},
   "outputs": [],
   "source": [
    "puzzle = Puzzle(2023, 21)"
   ]
  },
  {
   "cell_type": "markdown",
   "id": "d1cfa124",
   "metadata": {},
   "source": [
    "### Part 2"
   ]
  },
  {
   "cell_type": "markdown",
   "id": "3e923dd1",
   "metadata": {},
   "source": [
    "## Day 20\n",
    "https://adventofcode.com/2023/day/20\n",
    "### Part 1"
   ]
  },
  {
   "cell_type": "code",
   "execution_count": null,
   "id": "9bcb0be9",
   "metadata": {},
   "outputs": [],
   "source": [
    "puzzle = Puzzle(2023, 20)"
   ]
  },
  {
   "cell_type": "markdown",
   "id": "5074e63b",
   "metadata": {},
   "source": [
    "### Part 2"
   ]
  },
  {
   "cell_type": "markdown",
   "id": "b4dc0f48",
   "metadata": {},
   "source": [
    "## Day 19\n",
    "https://adventofcode.com/2023/day/19\n",
    "### Part 1"
   ]
  },
  {
   "cell_type": "code",
   "execution_count": null,
   "id": "5a9b3e2b",
   "metadata": {},
   "outputs": [],
   "source": [
    "puzzle = Puzzle(2023, 19)"
   ]
  },
  {
   "cell_type": "markdown",
   "id": "cc499de7",
   "metadata": {},
   "source": [
    "### Part 2"
   ]
  },
  {
   "cell_type": "markdown",
   "id": "81dcde6e",
   "metadata": {},
   "source": [
    "## Day 18\n",
    "https://adventofcode.com/2023/day/18\n",
    "### Part 1"
   ]
  },
  {
   "cell_type": "code",
   "execution_count": null,
   "id": "8ba434a8",
   "metadata": {},
   "outputs": [],
   "source": [
    "puzzle = Puzzle(2023, 18)"
   ]
  },
  {
   "cell_type": "markdown",
   "id": "07c7982c",
   "metadata": {},
   "source": [
    "### Part 2"
   ]
  },
  {
   "cell_type": "markdown",
   "id": "a62a3d78",
   "metadata": {},
   "source": [
    "## Day 17\n",
    "https://adventofcode.com/2023/day/17\n",
    "### Part 1"
   ]
  },
  {
   "cell_type": "code",
   "execution_count": null,
   "id": "c3b39b56",
   "metadata": {},
   "outputs": [],
   "source": [
    "puzzle = Puzzle(2023, 17)"
   ]
  },
  {
   "cell_type": "markdown",
   "id": "5a79f8f6",
   "metadata": {},
   "source": [
    "### Part 2"
   ]
  },
  {
   "cell_type": "markdown",
   "id": "72df1ef5",
   "metadata": {},
   "source": [
    "### Extra"
   ]
  },
  {
   "cell_type": "markdown",
   "id": "3fe14be0",
   "metadata": {},
   "source": [
    "## Day 16\n",
    "https://adventofcode.com/2023/day/16\n",
    "### Part 1"
   ]
  },
  {
   "cell_type": "code",
   "execution_count": null,
   "id": "81d4e25f",
   "metadata": {},
   "outputs": [],
   "source": [
    "puzzle = Puzzle(2023, 16)"
   ]
  },
  {
   "cell_type": "markdown",
   "id": "0efd30a8",
   "metadata": {},
   "source": [
    "### Part 2"
   ]
  },
  {
   "cell_type": "markdown",
   "id": "7d94d64d",
   "metadata": {},
   "source": [
    "## Day 15\n",
    "https://adventofcode.com/2023/day/15\n",
    "### Part 1"
   ]
  },
  {
   "cell_type": "code",
   "execution_count": null,
   "id": "ef37ea63",
   "metadata": {},
   "outputs": [],
   "source": [
    "puzzle = Puzzle(2023, 15)"
   ]
  },
  {
   "cell_type": "markdown",
   "id": "6f4797a2",
   "metadata": {},
   "source": [
    "### Part 2"
   ]
  },
  {
   "cell_type": "markdown",
   "id": "e048706f",
   "metadata": {},
   "source": [
    "## Day 14\n",
    "https://adventofcode.com/2023/day/14\n",
    "### Part 1"
   ]
  },
  {
   "cell_type": "code",
   "execution_count": null,
   "id": "476816e0",
   "metadata": {},
   "outputs": [],
   "source": [
    "puzzle = Puzzle(2023, 14)"
   ]
  },
  {
   "cell_type": "markdown",
   "id": "8a28638f",
   "metadata": {},
   "source": [
    "### Part 2"
   ]
  },
  {
   "cell_type": "markdown",
   "id": "1163a0c5",
   "metadata": {},
   "source": [
    "## Day 13\n",
    "https://adventofcode.com/2023/day/13\n",
    "### Part 1"
   ]
  },
  {
   "cell_type": "code",
   "execution_count": null,
   "id": "57108c0a",
   "metadata": {},
   "outputs": [],
   "source": [
    "puzzle = Puzzle(2023, 13)"
   ]
  },
  {
   "cell_type": "markdown",
   "id": "1038c61d",
   "metadata": {},
   "source": [
    "### Part 2"
   ]
  },
  {
   "cell_type": "markdown",
   "id": "a682a27a",
   "metadata": {},
   "source": [
    "## Day 12\n",
    "https://adventofcode.com/2023/day/12\n",
    "### Part 1"
   ]
  },
  {
   "cell_type": "code",
   "execution_count": null,
   "id": "66b3601e",
   "metadata": {},
   "outputs": [],
   "source": [
    "puzzle = Puzzle(2023, 12)\n",
    "lines = puzzle.input_data.split('\\n')"
   ]
  },
  {
   "cell_type": "markdown",
   "id": "ea3ddff2",
   "metadata": {},
   "source": [
    "### Part 1 (old, a la mano)"
   ]
  },
  {
   "cell_type": "markdown",
   "id": "2b887d43",
   "metadata": {},
   "source": [
    "### Part 2"
   ]
  },
  {
   "cell_type": "markdown",
   "id": "d2be259b",
   "metadata": {},
   "source": [
    "## Day 11\n",
    "https://adventofcode.com/2023/day/11\n",
    "### Part 1"
   ]
  },
  {
   "cell_type": "code",
   "execution_count": null,
   "id": "c54b8f5e",
   "metadata": {},
   "outputs": [],
   "source": [
    "puzzle = Puzzle(2023, 11)"
   ]
  },
  {
   "cell_type": "markdown",
   "id": "3d2913da",
   "metadata": {},
   "source": [
    "### Part 2"
   ]
  },
  {
   "cell_type": "markdown",
   "id": "d5109e59",
   "metadata": {},
   "source": [
    "## Day 10\n",
    "https://adventofcode.com/2023/day/10\n",
    "### Part 1"
   ]
  },
  {
   "cell_type": "code",
   "execution_count": null,
   "id": "5aa2d8c4",
   "metadata": {},
   "outputs": [],
   "source": [
    "puzzle = Puzzle(2023, 10)"
   ]
  },
  {
   "cell_type": "markdown",
   "id": "0d3ac075",
   "metadata": {},
   "source": [
    "### Part 2"
   ]
  },
  {
   "cell_type": "markdown",
   "id": "3b5f93e6",
   "metadata": {},
   "source": [
    "## Day 9\n",
    "https://adventofcode.com/2023/day/9\n",
    "### Part 1"
   ]
  },
  {
   "cell_type": "code",
   "execution_count": null,
   "id": "2466da91",
   "metadata": {},
   "outputs": [],
   "source": [
    "puzzle = Puzzle(2023, 9)"
   ]
  },
  {
   "cell_type": "markdown",
   "id": "1e4a5bce",
   "metadata": {},
   "source": [
    "### Part 2"
   ]
  },
  {
   "cell_type": "markdown",
   "id": "50ceba4c",
   "metadata": {},
   "source": [
    "### Extra"
   ]
  },
  {
   "cell_type": "markdown",
   "id": "32daee6b",
   "metadata": {},
   "source": [
    "## Day 8\n",
    "https://adventofcode.com/2023/day/8\n",
    "### Part 1"
   ]
  },
  {
   "cell_type": "code",
   "execution_count": null,
   "id": "3ae74ba8",
   "metadata": {},
   "outputs": [],
   "source": [
    "puzzle = Puzzle(2023, 8)"
   ]
  },
  {
   "cell_type": "markdown",
   "id": "061785fb",
   "metadata": {},
   "source": [
    "### Part 2"
   ]
  },
  {
   "cell_type": "code",
   "execution_count": null,
   "id": "84f624bb",
   "metadata": {},
   "outputs": [],
   "source": []
  },
  {
   "cell_type": "markdown",
   "id": "89cc70f5",
   "metadata": {},
   "source": [
    "### Extra"
   ]
  },
  {
   "cell_type": "markdown",
   "id": "fcd42fdd",
   "metadata": {},
   "source": [
    "## Day 7\n",
    "https://adventofcode.com/2023/day/7\n",
    "### Part 1"
   ]
  },
  {
   "cell_type": "code",
   "execution_count": null,
   "id": "c0a48b94",
   "metadata": {},
   "outputs": [],
   "source": [
    "puzzle = Puzzle(2023, 7)\n",
    "lines = puzzle.input_data.split('\\n')"
   ]
  },
  {
   "cell_type": "markdown",
   "id": "18cb765f",
   "metadata": {},
   "source": [
    "### Part 2"
   ]
  },
  {
   "cell_type": "markdown",
   "id": "fdb1635c",
   "metadata": {},
   "source": [
    "## Day 6\n",
    "https://adventofcode.com/2023/day/6\n",
    "### Part 1"
   ]
  },
  {
   "cell_type": "code",
   "execution_count": null,
   "id": "b1de3906",
   "metadata": {},
   "outputs": [],
   "source": [
    "puzzle = Puzzle(2023, 6)"
   ]
  },
  {
   "cell_type": "markdown",
   "id": "85992930",
   "metadata": {},
   "source": [
    "### Part 2"
   ]
  },
  {
   "cell_type": "markdown",
   "id": "cb23cbc0",
   "metadata": {},
   "source": [
    "## Day 5\n",
    "https://adventofcode.com/2024/day/5\n",
    "### Part 1"
   ]
  },
  {
   "cell_type": "code",
   "execution_count": null,
   "id": "026b1a0f",
   "metadata": {},
   "outputs": [],
   "source": [
    "puzzle = Puzzle(2024, 5)\n",
    "parts = puzzle.input_data.split('\\n\\n')"
   ]
  },
  {
   "cell_type": "code",
   "execution_count": null,
   "id": "85a6eddd-c8ea-4ff5-b6ba-39b5541d9ef8",
   "metadata": {},
   "outputs": [],
   "source": [
    "constraints = [elem.split('|') for elem in parts[0].split('\\n')]\n",
    "updates = [{val: idx for idx, val in enumerate(elem.split(','))} for elem in parts[1].split('\\n')]"
   ]
  },
  {
   "cell_type": "code",
   "execution_count": null,
   "id": "7721a20b-f5b2-4505-acd4-afc7b9458ef8",
   "metadata": {},
   "outputs": [],
   "source": [
    "sum = 0\n",
    "for update in updates:\n",
    "    if all(update[a] < update[b] for a, b in constraints if a in update and b in update):\n",
    "        sum += int(list(update.keys())[int((len(update)-1)/2)])"
   ]
  },
  {
   "cell_type": "code",
   "execution_count": null,
   "id": "653ebb96-0ea2-4de9-8153-981e6a65cbb9",
   "metadata": {},
   "outputs": [],
   "source": [
    "puzzle.answer_a = sum"
   ]
  },
  {
   "cell_type": "markdown",
   "id": "b108d9e0",
   "metadata": {},
   "source": [
    "### Part 2"
   ]
  },
  {
   "cell_type": "code",
   "execution_count": null,
   "id": "49d4bc9b-1659-407b-b917-fc4f627bf75c",
   "metadata": {},
   "outputs": [],
   "source": [
    "from collections import Counter\n",
    "\n",
    "sum = 0\n",
    "\n",
    "for update in updates:\n",
    "    if not all(update[a] < update[b] for a, b in constraints if a in update and b in update):\n",
    "        sum += int(list(key for key, val in Counter([a for a, b in constraints if a in update and b in update]).most_common())[int((len(update))/2)])"
   ]
  },
  {
   "cell_type": "code",
   "execution_count": null,
   "id": "13228165-ea56-4933-bd32-8d005120096a",
   "metadata": {},
   "outputs": [],
   "source": [
    "puzzle.answer_b = sum"
   ]
  },
  {
   "cell_type": "markdown",
   "id": "9008ba61",
   "metadata": {},
   "source": [
    "## Day 4\n",
    "https://adventofcode.com/2024/day/4\n",
    "### Part 1"
   ]
  },
  {
   "cell_type": "code",
   "execution_count": null,
   "id": "ccf9156c",
   "metadata": {},
   "outputs": [],
   "source": [
    "puzzle = Puzzle(2024, 4)\n",
    "lines = puzzle.input_data.split('\\n')"
   ]
  },
  {
   "cell_type": "code",
   "execution_count": null,
   "id": "11fb89c8-fdf8-4df8-84e9-02ef86679418",
   "metadata": {},
   "outputs": [],
   "source": [
    "from collections import defaultdict\n",
    "\n",
    "chars = defaultdict(lambda : defaultdict(lambda : '.'))\n",
    "\n",
    "for y, line in enumerate(lines):\n",
    "    for x, char in enumerate(line):\n",
    "        chars[x][y] = char"
   ]
  },
  {
   "cell_type": "code",
   "execution_count": null,
   "id": "873d23ae-635d-49c5-bca3-73dc30c5d090",
   "metadata": {},
   "outputs": [],
   "source": [
    "def check_pos(x, y):\n",
    "    count = 0\n",
    "    count+= int(all(chars[x+delta][y] == target for delta, target in enumerate('XMAS')))\n",
    "    count+= int(all(chars[x-delta][y] == target for delta, target in enumerate('XMAS')))\n",
    "    count+= int(all(chars[x][y+delta] == target for delta, target in enumerate('XMAS')))\n",
    "    count+= int(all(chars[x][y-delta] == target for delta, target in enumerate('XMAS')))\n",
    "    count+= int(all(chars[x+delta][y+delta] == target for delta, target in enumerate('XMAS')))\n",
    "    count+= int(all(chars[x+delta][y-delta] == target for delta, target in enumerate('XMAS')))\n",
    "    count+= int(all(chars[x-delta][y+delta] == target for delta, target in enumerate('XMAS')))\n",
    "    count+= int(all(chars[x-delta][y-delta] == target for delta, target in enumerate('XMAS')))\n",
    "    return count\n",
    "\n",
    "count = 0\n",
    "for y in range(len(lines)):\n",
    "    for x in range(len(lines[0])):\n",
    "        count += check_pos(x, y)"
   ]
  },
  {
   "cell_type": "code",
   "execution_count": null,
   "id": "8c1194d6-3cba-4eef-994f-40da4e201eb3",
   "metadata": {},
   "outputs": [],
   "source": [
    "puzzle.answer_a = count"
   ]
  },
  {
   "cell_type": "markdown",
   "id": "36669534",
   "metadata": {},
   "source": [
    "### Part 2"
   ]
  },
  {
   "cell_type": "code",
   "execution_count": null,
   "id": "91900e89-c93b-4af5-b215-8626b5d552bf",
   "metadata": {},
   "outputs": [],
   "source": [
    "def check_pos2(x, y):\n",
    "    count = 0\n",
    "    count+= int(all(chars[x+(d-1)][y+(d-1)] == t and chars[x+(d-1)][y-(d-1)] == t for d, t in enumerate('MAS')))\n",
    "    count+= int(all(chars[x+(d-1)][y+(d-1)] == t and chars[x-(d-1)][y+(d-1)] == t for d, t in enumerate('MAS')))\n",
    "    count+= int(all(chars[x-(d-1)][y-(d-1)] == t and chars[x+(d-1)][y-(d-1)] == t for d, t in enumerate('MAS')))\n",
    "    count+= int(all(chars[x-(d-1)][y-(d-1)] == t and chars[x-(d-1)][y+(d-1)] == t for d, t in enumerate('MAS')))\n",
    "    return count"
   ]
  },
  {
   "cell_type": "code",
   "execution_count": null,
   "id": "e02b5e59-38c5-462e-a723-03447bfc426f",
   "metadata": {},
   "outputs": [],
   "source": [
    "count = 0\n",
    "for y in range(len(lines)):\n",
    "    for x in range(len(lines[0])):\n",
    "        count += check_pos2(x, y)"
   ]
  },
  {
   "cell_type": "code",
   "execution_count": null,
   "id": "6e74c405",
   "metadata": {},
   "outputs": [],
   "source": [
    "puzzle.answer_b = count"
   ]
  },
  {
   "cell_type": "markdown",
   "id": "c00d46e9",
   "metadata": {},
   "source": [
    "## Day 3\n",
    "https://adventofcode.com/2024/day/3\n",
    "### Part 1"
   ]
  },
  {
   "cell_type": "code",
   "execution_count": null,
   "id": "4e5e73b9",
   "metadata": {},
   "outputs": [],
   "source": [
    "puzzle = Puzzle(2024, 3)\n",
    "lines = puzzle.input_data"
   ]
  },
  {
   "cell_type": "code",
   "execution_count": null,
   "id": "46f8344f-da6e-4f1d-a76f-ee537f6c1364",
   "metadata": {},
   "outputs": [],
   "source": [
    "import re\n",
    "\n",
    "puzzle.answer_a = sum(int(a)*int(b) for a,b in re.findall(r\"mul\\((\\d+),(\\d+)\\)\", lines))"
   ]
  },
  {
   "cell_type": "markdown",
   "id": "f2b627b4",
   "metadata": {},
   "source": [
    "### Part 2"
   ]
  },
  {
   "cell_type": "code",
   "execution_count": null,
   "id": "a00f5b9a-ed7d-44b9-a1bb-192c5340e926",
   "metadata": {},
   "outputs": [],
   "source": [
    "acc = 0\n",
    "do_acc = True\n",
    "\n",
    "for do, dont, x, y in re.findall(r\"(do\\(\\))|(don't\\(\\))|mul\\((\\d+),(\\d+)\\)\", lines):\n",
    "    if do:\n",
    "        do_acc = True\n",
    "    elif dont:\n",
    "        do_acc = False\n",
    "    elif do_acc:\n",
    "        acc += int(x)*int(y)"
   ]
  },
  {
   "cell_type": "code",
   "execution_count": null,
   "id": "71d8ff59",
   "metadata": {},
   "outputs": [],
   "source": [
    "puzzle.answer_b = acc"
   ]
  },
  {
   "cell_type": "markdown",
   "id": "9b910d15",
   "metadata": {},
   "source": [
    "## Day 2\n",
    "https://adventofcode.com/2024/day/2\n",
    "### Part 1"
   ]
  },
  {
   "cell_type": "code",
   "execution_count": null,
   "id": "84fdf174",
   "metadata": {},
   "outputs": [],
   "source": [
    "puzzle = Puzzle(2024, 2)\n",
    "lines = puzzle.input_data.split('\\n')"
   ]
  },
  {
   "cell_type": "code",
   "execution_count": null,
   "id": "7527cca1-3af5-4aa8-b578-ca0351dade08",
   "metadata": {},
   "outputs": [],
   "source": [
    "levels = [[int(nb) for nb in line.split() ] for line in lines]\n",
    "\n",
    "def safety_check(signal):\n",
    "    diff = [y - x for x, y in zip(signal[:-1], signal[1:])]\n",
    "    sdiff = sorted(set(diff))\n",
    "    \n",
    "    min, max = sdiff[0], sdiff[-1]\n",
    "    if min >= 1 and max <= 3 or min >= -3 and max <= -1:\n",
    "        return True\n",
    "    return False"
   ]
  },
  {
   "cell_type": "code",
   "execution_count": null,
   "id": "5029253b-c78f-4b65-893a-b0cb53db1cbf",
   "metadata": {},
   "outputs": [],
   "source": [
    "puzzle.answer_a = len([signal for signal in levels if safety_check(signal)])"
   ]
  },
  {
   "cell_type": "markdown",
   "id": "1876ec15",
   "metadata": {},
   "source": [
    "### Part 2"
   ]
  },
  {
   "cell_type": "code",
   "execution_count": null,
   "id": "1e749cb9",
   "metadata": {},
   "outputs": [],
   "source": [
    "puzzle.answer_b = len([signal for signal in levels if any([safety_check(signal[:idx] + signal[idx+1:]) for idx in range(len(signal))])])"
   ]
  },
  {
   "cell_type": "markdown",
   "id": "637b7e39",
   "metadata": {},
   "source": [
    "## Day 1\n",
    "https://adventofcode.com/2024/day/1\n",
    "### Part 1"
   ]
  },
  {
   "cell_type": "code",
   "execution_count": null,
   "id": "75254cc5",
   "metadata": {},
   "outputs": [],
   "source": [
    "puzzle = Puzzle(2024, 1)"
   ]
  },
  {
   "cell_type": "code",
   "execution_count": null,
   "id": "497dce6f-7d69-49c3-b8df-3dc4e067be57",
   "metadata": {},
   "outputs": [],
   "source": [
    "lines = puzzle.input_data.split('\\n')\n",
    "numbers = [l.split() for l in lines]\n",
    "num_left = sorted([int(nb[0]) for nb in numbers])\n",
    "num_right = sorted([int(nb[1]) for nb in numbers])"
   ]
  },
  {
   "cell_type": "code",
   "execution_count": null,
   "id": "a0dd8849-2530-4829-8cb7-16bfef0005bb",
   "metadata": {},
   "outputs": [],
   "source": [
    "puzzle.answer_a = sum(abs(nr - nl) for nl, nr in zip(num_left, num_right))"
   ]
  },
  {
   "cell_type": "markdown",
   "id": "54aaddfe",
   "metadata": {},
   "source": [
    "### Part 2"
   ]
  },
  {
   "cell_type": "code",
   "execution_count": null,
   "id": "0c172ea5",
   "metadata": {},
   "outputs": [],
   "source": [
    "from collections import Counter\n",
    "\n",
    "count = Counter(num_right)"
   ]
  },
  {
   "cell_type": "code",
   "execution_count": null,
   "id": "41e63f27-c2eb-4ce6-aa1d-7a5c76e92acf",
   "metadata": {},
   "outputs": [],
   "source": [
    "puzzle.answer_b = sum(nb*count[nb] for nb in num_left)"
   ]
  }
 ],
 "metadata": {
  "kernelspec": {
   "display_name": "Python 3 (ipykernel)",
   "language": "python",
   "name": "python3"
  },
  "language_info": {
   "codemirror_mode": {
    "name": "ipython",
    "version": 3
   },
   "file_extension": ".py",
   "mimetype": "text/x-python",
   "name": "python",
   "nbconvert_exporter": "python",
   "pygments_lexer": "ipython3",
   "version": "3.11.9"
  },
  "toc": {
   "base_numbering": 1,
   "nav_menu": {},
   "number_sections": true,
   "sideBar": true,
   "skip_h1_title": false,
   "title_cell": "Table of Contents",
   "title_sidebar": "Contents",
   "toc_cell": false,
   "toc_position": {},
   "toc_section_display": true,
   "toc_window_display": false
  }
 },
 "nbformat": 4,
 "nbformat_minor": 5
}
