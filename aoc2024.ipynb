{
 "cells": [
  {
   "cell_type": "markdown",
   "id": "f6509e01",
   "metadata": {},
   "source": [
    "# AOC 2024\n",
    "\n",
    "    Welcome to the Advent of Code 2024!"
   ]
  },
  {
   "cell_type": "markdown",
   "id": "34c4327c",
   "metadata": {},
   "source": [
    "## Basic configuration"
   ]
  },
  {
   "cell_type": "code",
   "execution_count": null,
   "id": "67938f34",
   "metadata": {},
   "outputs": [],
   "source": [
    "!pip install aocd"
   ]
  },
  {
   "cell_type": "code",
   "execution_count": null,
   "id": "f9d98ade",
   "metadata": {},
   "outputs": [],
   "source": [
    "import os\n",
    "\n",
    "os.environ['AOC_SESSION'] = open('session.txt').read().strip()\n",
    "\n",
    "from aocd import submit\n",
    "from aocd.models import Puzzle"
   ]
  },
  {
   "cell_type": "markdown",
   "id": "1867ef79",
   "metadata": {},
   "source": [
    "## Day 23\n",
    "https://adventofcode.com/2023/day/23\n",
    "### Part 1"
   ]
  },
  {
   "cell_type": "code",
   "execution_count": null,
   "id": "8544afbc",
   "metadata": {},
   "outputs": [],
   "source": [
    "puzzle = Puzzle(2023, 23)"
   ]
  },
  {
   "cell_type": "markdown",
   "id": "db2f69ab",
   "metadata": {},
   "source": [
    "## Day 22\n",
    "https://adventofcode.com/2023/day/22\n",
    "### Part 1"
   ]
  },
  {
   "cell_type": "code",
   "execution_count": null,
   "id": "a56e96ca",
   "metadata": {},
   "outputs": [],
   "source": [
    "puzzle = Puzzle(2023, 22)"
   ]
  },
  {
   "cell_type": "markdown",
   "id": "6776ae62",
   "metadata": {},
   "source": [
    "## Day 21\n",
    "https://adventofcode.com/2023/day/21\n",
    "### Part 1"
   ]
  },
  {
   "cell_type": "code",
   "execution_count": null,
   "id": "3fee5165",
   "metadata": {},
   "outputs": [],
   "source": [
    "puzzle = Puzzle(2023, 21)"
   ]
  },
  {
   "cell_type": "markdown",
   "id": "d1cfa124",
   "metadata": {},
   "source": [
    "### Part 2"
   ]
  },
  {
   "cell_type": "markdown",
   "id": "3e923dd1",
   "metadata": {},
   "source": [
    "## Day 20\n",
    "https://adventofcode.com/2023/day/20\n",
    "### Part 1"
   ]
  },
  {
   "cell_type": "code",
   "execution_count": null,
   "id": "9bcb0be9",
   "metadata": {},
   "outputs": [],
   "source": [
    "puzzle = Puzzle(2023, 20)"
   ]
  },
  {
   "cell_type": "markdown",
   "id": "5074e63b",
   "metadata": {},
   "source": [
    "### Part 2"
   ]
  },
  {
   "cell_type": "markdown",
   "id": "b4dc0f48",
   "metadata": {},
   "source": [
    "## Day 19\n",
    "https://adventofcode.com/2023/day/19\n",
    "### Part 1"
   ]
  },
  {
   "cell_type": "code",
   "execution_count": null,
   "id": "5a9b3e2b",
   "metadata": {},
   "outputs": [],
   "source": [
    "puzzle = Puzzle(2023, 19)"
   ]
  },
  {
   "cell_type": "markdown",
   "id": "cc499de7",
   "metadata": {},
   "source": [
    "### Part 2"
   ]
  },
  {
   "cell_type": "markdown",
   "id": "81dcde6e",
   "metadata": {},
   "source": [
    "## Day 18\n",
    "https://adventofcode.com/2023/day/18\n",
    "### Part 1"
   ]
  },
  {
   "cell_type": "code",
   "execution_count": null,
   "id": "8ba434a8",
   "metadata": {},
   "outputs": [],
   "source": [
    "puzzle = Puzzle(2023, 18)"
   ]
  },
  {
   "cell_type": "markdown",
   "id": "07c7982c",
   "metadata": {},
   "source": [
    "### Part 2"
   ]
  },
  {
   "cell_type": "markdown",
   "id": "a62a3d78",
   "metadata": {},
   "source": [
    "## Day 17\n",
    "https://adventofcode.com/2023/day/17\n",
    "### Part 1"
   ]
  },
  {
   "cell_type": "code",
   "execution_count": null,
   "id": "c3b39b56",
   "metadata": {},
   "outputs": [],
   "source": [
    "puzzle = Puzzle(2023, 17)"
   ]
  },
  {
   "cell_type": "markdown",
   "id": "5a79f8f6",
   "metadata": {},
   "source": [
    "### Part 2"
   ]
  },
  {
   "cell_type": "markdown",
   "id": "72df1ef5",
   "metadata": {},
   "source": [
    "### Extra"
   ]
  },
  {
   "cell_type": "markdown",
   "id": "3fe14be0",
   "metadata": {},
   "source": [
    "## Day 16\n",
    "https://adventofcode.com/2023/day/16\n",
    "### Part 1"
   ]
  },
  {
   "cell_type": "code",
   "execution_count": null,
   "id": "81d4e25f",
   "metadata": {},
   "outputs": [],
   "source": [
    "puzzle = Puzzle(2023, 16)"
   ]
  },
  {
   "cell_type": "markdown",
   "id": "0efd30a8",
   "metadata": {},
   "source": [
    "### Part 2"
   ]
  },
  {
   "cell_type": "markdown",
   "id": "7d94d64d",
   "metadata": {},
   "source": [
    "## Day 15\n",
    "https://adventofcode.com/2023/day/15\n",
    "### Part 1"
   ]
  },
  {
   "cell_type": "code",
   "execution_count": null,
   "id": "ef37ea63",
   "metadata": {},
   "outputs": [],
   "source": [
    "puzzle = Puzzle(2023, 15)"
   ]
  },
  {
   "cell_type": "markdown",
   "id": "6f4797a2",
   "metadata": {},
   "source": [
    "### Part 2"
   ]
  },
  {
   "cell_type": "markdown",
   "id": "e048706f",
   "metadata": {},
   "source": [
    "## Day 14\n",
    "https://adventofcode.com/2023/day/14\n",
    "### Part 1"
   ]
  },
  {
   "cell_type": "code",
   "execution_count": null,
   "id": "476816e0",
   "metadata": {},
   "outputs": [],
   "source": [
    "puzzle = Puzzle(2023, 14)"
   ]
  },
  {
   "cell_type": "markdown",
   "id": "8a28638f",
   "metadata": {},
   "source": [
    "### Part 2"
   ]
  },
  {
   "cell_type": "markdown",
   "id": "1163a0c5",
   "metadata": {},
   "source": [
    "## Day 13\n",
    "https://adventofcode.com/2023/day/13\n",
    "### Part 1"
   ]
  },
  {
   "cell_type": "code",
   "execution_count": null,
   "id": "57108c0a",
   "metadata": {},
   "outputs": [],
   "source": [
    "puzzle = Puzzle(2023, 13)"
   ]
  },
  {
   "cell_type": "markdown",
   "id": "1038c61d",
   "metadata": {},
   "source": [
    "### Part 2"
   ]
  },
  {
   "cell_type": "markdown",
   "id": "a682a27a",
   "metadata": {},
   "source": [
    "## Day 12\n",
    "https://adventofcode.com/2023/day/12\n",
    "### Part 1"
   ]
  },
  {
   "cell_type": "code",
   "execution_count": null,
   "id": "66b3601e",
   "metadata": {},
   "outputs": [],
   "source": [
    "puzzle = Puzzle(2023, 12)\n",
    "lines = puzzle.input_data.split('\\n')"
   ]
  },
  {
   "cell_type": "markdown",
   "id": "ea3ddff2",
   "metadata": {},
   "source": [
    "### Part 1 (old, a la mano)"
   ]
  },
  {
   "cell_type": "markdown",
   "id": "2b887d43",
   "metadata": {},
   "source": [
    "### Part 2"
   ]
  },
  {
   "cell_type": "markdown",
   "id": "d2be259b",
   "metadata": {},
   "source": [
    "## Day 11\n",
    "https://adventofcode.com/2023/day/11\n",
    "### Part 1"
   ]
  },
  {
   "cell_type": "code",
   "execution_count": null,
   "id": "c54b8f5e",
   "metadata": {},
   "outputs": [],
   "source": [
    "puzzle = Puzzle(2023, 11)"
   ]
  },
  {
   "cell_type": "markdown",
   "id": "3d2913da",
   "metadata": {},
   "source": [
    "### Part 2"
   ]
  },
  {
   "cell_type": "markdown",
   "id": "d5109e59",
   "metadata": {},
   "source": [
    "## Day 10\n",
    "https://adventofcode.com/2023/day/10\n",
    "### Part 1"
   ]
  },
  {
   "cell_type": "code",
   "execution_count": null,
   "id": "5aa2d8c4",
   "metadata": {},
   "outputs": [],
   "source": [
    "puzzle = Puzzle(2023, 10)"
   ]
  },
  {
   "cell_type": "markdown",
   "id": "0d3ac075",
   "metadata": {},
   "source": [
    "### Part 2"
   ]
  },
  {
   "cell_type": "markdown",
   "id": "3b5f93e6",
   "metadata": {},
   "source": [
    "## Day 9\n",
    "https://adventofcode.com/2023/day/9\n",
    "### Part 1"
   ]
  },
  {
   "cell_type": "code",
   "execution_count": null,
   "id": "2466da91",
   "metadata": {},
   "outputs": [],
   "source": [
    "puzzle = Puzzle(2023, 9)"
   ]
  },
  {
   "cell_type": "markdown",
   "id": "1e4a5bce",
   "metadata": {},
   "source": [
    "### Part 2"
   ]
  },
  {
   "cell_type": "markdown",
   "id": "50ceba4c",
   "metadata": {},
   "source": [
    "### Extra"
   ]
  },
  {
   "cell_type": "markdown",
   "id": "32daee6b",
   "metadata": {},
   "source": [
    "## Day 8\n",
    "https://adventofcode.com/2023/day/8\n",
    "### Part 1"
   ]
  },
  {
   "cell_type": "code",
   "execution_count": null,
   "id": "3ae74ba8",
   "metadata": {},
   "outputs": [],
   "source": [
    "puzzle = Puzzle(2023, 8)"
   ]
  },
  {
   "cell_type": "markdown",
   "id": "061785fb",
   "metadata": {},
   "source": [
    "### Part 2"
   ]
  },
  {
   "cell_type": "code",
   "execution_count": null,
   "id": "84f624bb",
   "metadata": {},
   "outputs": [],
   "source": []
  },
  {
   "cell_type": "markdown",
   "id": "89cc70f5",
   "metadata": {},
   "source": [
    "### Extra"
   ]
  },
  {
   "cell_type": "markdown",
   "id": "fcd42fdd",
   "metadata": {},
   "source": [
    "## Day 7\n",
    "https://adventofcode.com/2023/day/7\n",
    "### Part 1"
   ]
  },
  {
   "cell_type": "code",
   "execution_count": null,
   "id": "c0a48b94",
   "metadata": {},
   "outputs": [],
   "source": [
    "puzzle = Puzzle(2023, 7)\n",
    "lines = puzzle.input_data.split('\\n')"
   ]
  },
  {
   "cell_type": "markdown",
   "id": "18cb765f",
   "metadata": {},
   "source": [
    "### Part 2"
   ]
  },
  {
   "cell_type": "markdown",
   "id": "fdb1635c",
   "metadata": {},
   "source": [
    "## Day 6\n",
    "https://adventofcode.com/2023/day/6\n",
    "### Part 1"
   ]
  },
  {
   "cell_type": "code",
   "execution_count": null,
   "id": "b1de3906",
   "metadata": {},
   "outputs": [],
   "source": [
    "puzzle = Puzzle(2023, 6)"
   ]
  },
  {
   "cell_type": "markdown",
   "id": "85992930",
   "metadata": {},
   "source": [
    "### Part 2"
   ]
  },
  {
   "cell_type": "markdown",
   "id": "cb23cbc0",
   "metadata": {},
   "source": [
    "## Day 5\n",
    "https://adventofcode.com/2023/day/5\n",
    "### Part 1"
   ]
  },
  {
   "cell_type": "code",
   "execution_count": null,
   "id": "026b1a0f",
   "metadata": {},
   "outputs": [],
   "source": [
    "puzzle = Puzzle(2023, 5)\n",
    "parts = puzzle.input_data.split('\\n\\n')"
   ]
  },
  {
   "cell_type": "markdown",
   "id": "b108d9e0",
   "metadata": {},
   "source": [
    "### Part 2"
   ]
  },
  {
   "cell_type": "markdown",
   "id": "9008ba61",
   "metadata": {},
   "source": [
    "## Day 4\n",
    "https://adventofcode.com/2023/day/4\n",
    "### Part 1"
   ]
  },
  {
   "cell_type": "code",
   "execution_count": null,
   "id": "ccf9156c",
   "metadata": {},
   "outputs": [],
   "source": [
    "puzzle = Puzzle(2023, 4)\n",
    "lines = puzzle.input_data.split('\\n')"
   ]
  },
  {
   "cell_type": "markdown",
   "id": "36669534",
   "metadata": {},
   "source": [
    "### Part 2"
   ]
  },
  {
   "cell_type": "code",
   "execution_count": null,
   "id": "6e74c405",
   "metadata": {},
   "outputs": [],
   "source": [
    "puzzle.answer_b = sum(count.values())"
   ]
  },
  {
   "cell_type": "markdown",
   "id": "c00d46e9",
   "metadata": {},
   "source": [
    "## Day 3\n",
    "https://adventofcode.com/2023/day/3\n",
    "### Part 1"
   ]
  },
  {
   "cell_type": "code",
   "execution_count": null,
   "id": "4e5e73b9",
   "metadata": {},
   "outputs": [],
   "source": [
    "puzzle = Puzzle(2023, 3)\n",
    "lines = puzzle.input_data.split('\\n')"
   ]
  },
  {
   "cell_type": "markdown",
   "id": "f2b627b4",
   "metadata": {},
   "source": [
    "### Part 2"
   ]
  },
  {
   "cell_type": "code",
   "execution_count": null,
   "id": "71d8ff59",
   "metadata": {},
   "outputs": [],
   "source": [
    "puzzle.answer_b = s"
   ]
  },
  {
   "cell_type": "markdown",
   "id": "9b910d15",
   "metadata": {},
   "source": [
    "## Day 2\n",
    "https://adventofcode.com/2023/day/2\n",
    "### Part 1"
   ]
  },
  {
   "cell_type": "code",
   "execution_count": null,
   "id": "84fdf174",
   "metadata": {},
   "outputs": [],
   "source": [
    "puzzle = Puzzle(2023, 2)\n",
    "lines = puzzle.input_data.split('\\n')"
   ]
  },
  {
   "cell_type": "markdown",
   "id": "1876ec15",
   "metadata": {},
   "source": [
    "### Part 2"
   ]
  },
  {
   "cell_type": "code",
   "execution_count": null,
   "id": "1e749cb9",
   "metadata": {},
   "outputs": [],
   "source": [
    "puzzle.answer_b = sum(game_power(line) for line in lines)"
   ]
  },
  {
   "cell_type": "markdown",
   "id": "637b7e39",
   "metadata": {},
   "source": [
    "## Day 1\n",
    "https://adventofcode.com/2023/day/1\n",
    "### Part 1"
   ]
  },
  {
   "cell_type": "code",
   "execution_count": null,
   "id": "75254cc5",
   "metadata": {},
   "outputs": [],
   "source": [
    "puzzle = Puzzle(2023, 1)"
   ]
  },
  {
   "cell_type": "code",
   "execution_count": null,
   "id": "68c5af18",
   "metadata": {},
   "outputs": [],
   "source": [
    "#puzzle.answer_a = ..."
   ]
  },
  {
   "cell_type": "markdown",
   "id": "54aaddfe",
   "metadata": {},
   "source": [
    "### Part 2"
   ]
  },
  {
   "cell_type": "code",
   "execution_count": null,
   "id": "0c172ea5",
   "metadata": {},
   "outputs": [],
   "source": [
    "\n",
    "# puzzle.answer_b = ..."
   ]
  }
 ],
 "metadata": {
  "kernelspec": {
   "display_name": "Python 3 (ipykernel)",
   "language": "python",
   "name": "python3"
  },
  "language_info": {
   "codemirror_mode": {
    "name": "ipython",
    "version": 3
   },
   "file_extension": ".py",
   "mimetype": "text/x-python",
   "name": "python",
   "nbconvert_exporter": "python",
   "pygments_lexer": "ipython3",
   "version": "3.11.3"
  },
  "toc": {
   "base_numbering": 1,
   "nav_menu": {},
   "number_sections": true,
   "sideBar": true,
   "skip_h1_title": false,
   "title_cell": "Table of Contents",
   "title_sidebar": "Contents",
   "toc_cell": false,
   "toc_position": {},
   "toc_section_display": true,
   "toc_window_display": false
  }
 },
 "nbformat": 4,
 "nbformat_minor": 5
}
