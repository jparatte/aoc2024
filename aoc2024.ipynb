{
 "cells": [
  {
   "cell_type": "markdown",
   "id": "f6509e01",
   "metadata": {},
   "source": [
    "# AOC 2024\n",
    "\n",
    "    Welcome to the Advent of Code 2024!"
   ]
  },
  {
   "cell_type": "markdown",
   "id": "34c4327c",
   "metadata": {},
   "source": [
    "## Basic configuration"
   ]
  },
  {
   "cell_type": "code",
   "execution_count": null,
   "id": "67938f34",
   "metadata": {},
   "outputs": [],
   "source": [
    "!pip install aocd"
   ]
  },
  {
   "cell_type": "code",
   "execution_count": null,
   "id": "f9d98ade",
   "metadata": {},
   "outputs": [],
   "source": [
    "import os\n",
    "\n",
    "os.environ['AOC_SESSION'] = open('session.txt').read().strip()\n",
    "\n",
    "from aocd import submit\n",
    "from aocd.models import Puzzle"
   ]
  },
  {
   "cell_type": "markdown",
   "id": "1867ef79",
   "metadata": {},
   "source": [
    "## Day 23\n",
    "https://adventofcode.com/2023/day/23\n",
    "### Part 1"
   ]
  },
  {
   "cell_type": "code",
   "execution_count": null,
   "id": "8544afbc",
   "metadata": {},
   "outputs": [],
   "source": [
    "puzzle = Puzzle(2023, 23)"
   ]
  },
  {
   "cell_type": "markdown",
   "id": "db2f69ab",
   "metadata": {},
   "source": [
    "## Day 22\n",
    "https://adventofcode.com/2023/day/22\n",
    "### Part 1"
   ]
  },
  {
   "cell_type": "code",
   "execution_count": null,
   "id": "a56e96ca",
   "metadata": {},
   "outputs": [],
   "source": [
    "puzzle = Puzzle(2023, 22)"
   ]
  },
  {
   "cell_type": "markdown",
   "id": "6776ae62",
   "metadata": {},
   "source": [
    "## Day 21\n",
    "https://adventofcode.com/2023/day/21\n",
    "### Part 1"
   ]
  },
  {
   "cell_type": "code",
   "execution_count": null,
   "id": "3fee5165",
   "metadata": {},
   "outputs": [],
   "source": [
    "puzzle = Puzzle(2023, 21)"
   ]
  },
  {
   "cell_type": "markdown",
   "id": "d1cfa124",
   "metadata": {},
   "source": [
    "### Part 2"
   ]
  },
  {
   "cell_type": "markdown",
   "id": "3e923dd1",
   "metadata": {},
   "source": [
    "## Day 20\n",
    "https://adventofcode.com/2023/day/20\n",
    "### Part 1"
   ]
  },
  {
   "cell_type": "code",
   "execution_count": null,
   "id": "9bcb0be9",
   "metadata": {},
   "outputs": [],
   "source": [
    "puzzle = Puzzle(2023, 20)"
   ]
  },
  {
   "cell_type": "markdown",
   "id": "5074e63b",
   "metadata": {},
   "source": [
    "### Part 2"
   ]
  },
  {
   "cell_type": "markdown",
   "id": "b4dc0f48",
   "metadata": {},
   "source": [
    "## Day 19\n",
    "https://adventofcode.com/2023/day/19\n",
    "### Part 1"
   ]
  },
  {
   "cell_type": "code",
   "execution_count": null,
   "id": "5a9b3e2b",
   "metadata": {},
   "outputs": [],
   "source": [
    "puzzle = Puzzle(2023, 19)"
   ]
  },
  {
   "cell_type": "markdown",
   "id": "cc499de7",
   "metadata": {},
   "source": [
    "### Part 2"
   ]
  },
  {
   "cell_type": "markdown",
   "id": "81dcde6e",
   "metadata": {},
   "source": [
    "## Day 18\n",
    "https://adventofcode.com/2023/day/18\n",
    "### Part 1"
   ]
  },
  {
   "cell_type": "code",
   "execution_count": null,
   "id": "8ba434a8",
   "metadata": {},
   "outputs": [],
   "source": [
    "puzzle = Puzzle(2023, 18)"
   ]
  },
  {
   "cell_type": "markdown",
   "id": "07c7982c",
   "metadata": {},
   "source": [
    "### Part 2"
   ]
  },
  {
   "cell_type": "markdown",
   "id": "a62a3d78",
   "metadata": {},
   "source": [
    "## Day 17\n",
    "https://adventofcode.com/2023/day/17\n",
    "### Part 1"
   ]
  },
  {
   "cell_type": "code",
   "execution_count": null,
   "id": "c3b39b56",
   "metadata": {},
   "outputs": [],
   "source": [
    "puzzle = Puzzle(2023, 17)"
   ]
  },
  {
   "cell_type": "markdown",
   "id": "5a79f8f6",
   "metadata": {},
   "source": [
    "### Part 2"
   ]
  },
  {
   "cell_type": "markdown",
   "id": "72df1ef5",
   "metadata": {},
   "source": [
    "### Extra"
   ]
  },
  {
   "cell_type": "markdown",
   "id": "3fe14be0",
   "metadata": {},
   "source": [
    "## Day 16\n",
    "https://adventofcode.com/2023/day/16\n",
    "### Part 1"
   ]
  },
  {
   "cell_type": "code",
   "execution_count": null,
   "id": "81d4e25f",
   "metadata": {},
   "outputs": [],
   "source": [
    "puzzle = Puzzle(2023, 16)"
   ]
  },
  {
   "cell_type": "markdown",
   "id": "0efd30a8",
   "metadata": {},
   "source": [
    "### Part 2"
   ]
  },
  {
   "cell_type": "markdown",
   "id": "7d94d64d",
   "metadata": {},
   "source": [
    "## Day 15\n",
    "https://adventofcode.com/2023/day/15\n",
    "### Part 1"
   ]
  },
  {
   "cell_type": "code",
   "execution_count": null,
   "id": "ef37ea63",
   "metadata": {},
   "outputs": [],
   "source": [
    "puzzle = Puzzle(2023, 15)"
   ]
  },
  {
   "cell_type": "markdown",
   "id": "6f4797a2",
   "metadata": {},
   "source": [
    "### Part 2"
   ]
  },
  {
   "cell_type": "markdown",
   "id": "e048706f",
   "metadata": {},
   "source": [
    "## Day 14\n",
    "https://adventofcode.com/2023/day/14\n",
    "### Part 1"
   ]
  },
  {
   "cell_type": "code",
   "execution_count": null,
   "id": "476816e0",
   "metadata": {},
   "outputs": [],
   "source": [
    "puzzle = Puzzle(2023, 14)"
   ]
  },
  {
   "cell_type": "markdown",
   "id": "8a28638f",
   "metadata": {},
   "source": [
    "### Part 2"
   ]
  },
  {
   "cell_type": "markdown",
   "id": "1163a0c5",
   "metadata": {},
   "source": [
    "## Day 13\n",
    "https://adventofcode.com/2023/day/13\n",
    "### Part 1"
   ]
  },
  {
   "cell_type": "code",
   "execution_count": null,
   "id": "57108c0a",
   "metadata": {},
   "outputs": [],
   "source": [
    "puzzle = Puzzle(2023, 13)"
   ]
  },
  {
   "cell_type": "markdown",
   "id": "1038c61d",
   "metadata": {},
   "source": [
    "### Part 2"
   ]
  },
  {
   "cell_type": "markdown",
   "id": "a682a27a",
   "metadata": {},
   "source": [
    "## Day 12\n",
    "https://adventofcode.com/2023/day/12\n",
    "### Part 1"
   ]
  },
  {
   "cell_type": "code",
   "execution_count": null,
   "id": "66b3601e",
   "metadata": {},
   "outputs": [],
   "source": [
    "puzzle = Puzzle(2023, 12)\n",
    "lines = puzzle.input_data.split('\\n')"
   ]
  },
  {
   "cell_type": "markdown",
   "id": "ea3ddff2",
   "metadata": {},
   "source": [
    "### Part 1 (old, a la mano)"
   ]
  },
  {
   "cell_type": "markdown",
   "id": "2b887d43",
   "metadata": {},
   "source": [
    "### Part 2"
   ]
  },
  {
   "cell_type": "markdown",
   "id": "d2be259b",
   "metadata": {},
   "source": [
    "## Day 11\n",
    "https://adventofcode.com/2024/day/11\n",
    "### Part 1"
   ]
  },
  {
   "cell_type": "code",
   "execution_count": null,
   "id": "c54b8f5e",
   "metadata": {},
   "outputs": [],
   "source": [
    "puzzle = Puzzle(2024, 11)\n",
    "line = puzzle.input_data"
   ]
  },
  {
   "cell_type": "code",
   "execution_count": null,
   "id": "9f35c501-8ea6-4880-91d3-35f4ee724a10",
   "metadata": {},
   "outputs": [],
   "source": [
    "from collections import Counter\n",
    "stones = Counter(line.split())"
   ]
  },
  {
   "cell_type": "code",
   "execution_count": null,
   "id": "3f64023a-98a4-402e-affc-c758a5c71007",
   "metadata": {},
   "outputs": [],
   "source": [
    "def change(stone):\n",
    "    if stone == '0':\n",
    "        return ['1']\n",
    "    if len(stone) % 2 == 0:\n",
    "        left = stone[:len(stone) // 2]\n",
    "        right = str(int(stone[len(stone) // 2:]))\n",
    "        return [left, right]\n",
    "    return [str((int(stone))*2024)]\n",
    "\n",
    "def blink(stones):\n",
    "    new_stones = Counter()\n",
    "    for stone, count in stones.items():\n",
    "        for new_stone in change(stone):\n",
    "            new_stones[new_stone] += count\n",
    "    return new_stones"
   ]
  },
  {
   "cell_type": "code",
   "execution_count": null,
   "id": "fda8d09d-680e-480a-83e7-d291f671af0c",
   "metadata": {},
   "outputs": [],
   "source": [
    "stones = Counter(line.split())\n",
    "for i in range(25):\n",
    "    stones = blink(stones)"
   ]
  },
  {
   "cell_type": "code",
   "execution_count": null,
   "id": "86d9cd85-260a-48c0-8d87-3dfc5ea46bb3",
   "metadata": {},
   "outputs": [],
   "source": [
    "puzzle.answer_a = sum(stones.values())"
   ]
  },
  {
   "cell_type": "markdown",
   "id": "3d2913da",
   "metadata": {},
   "source": [
    "### Part 2"
   ]
  },
  {
   "cell_type": "code",
   "execution_count": null,
   "id": "7b5cf416-b376-4c8b-93cd-708471e0009b",
   "metadata": {},
   "outputs": [],
   "source": [
    "stones = Counter(line.split())\n",
    "for i in range(75):\n",
    "    stones = blink(stones)"
   ]
  },
  {
   "cell_type": "code",
   "execution_count": null,
   "id": "ae10abff-a5d6-40a2-a8a4-9a14956adb9b",
   "metadata": {},
   "outputs": [],
   "source": [
    "puzzle.answer_b = sum(stones.values())"
   ]
  },
  {
   "cell_type": "markdown",
   "id": "d5109e59",
   "metadata": {},
   "source": [
    "## Day 10\n",
    "https://adventofcode.com/2024/day/10\n",
    "### Part 1"
   ]
  },
  {
   "cell_type": "code",
   "execution_count": null,
   "id": "1620a654-08f8-410d-9072-4d350a2267eb",
   "metadata": {},
   "outputs": [],
   "source": [
    "!pip install networkx numpy"
   ]
  },
  {
   "cell_type": "code",
   "execution_count": null,
   "id": "5aa2d8c4",
   "metadata": {},
   "outputs": [],
   "source": [
    "puzzle = Puzzle(2024, 10)\n",
    "lines = puzzle.input_data.split('\\n')"
   ]
  },
  {
   "cell_type": "code",
   "execution_count": null,
   "id": "cc63bc68-3db1-461d-864b-4efbc7a79525",
   "metadata": {},
   "outputs": [],
   "source": [
    "import numpy as np\n",
    "\n",
    "starts = set()\n",
    "ends = set()\n",
    "\n",
    "for y, line in enumerate(lines):\n",
    "    for x, c in enumerate(line):\n",
    "        if c == '0':\n",
    "            starts.add((x, y))\n",
    "        elif c == '9':\n",
    "            ends.add((x, y))\n",
    "\n",
    "topo = np.array([[int(c) for c in line] for line in lines]).T"
   ]
  },
  {
   "cell_type": "code",
   "execution_count": null,
   "id": "8b3f5854-a8d5-46ff-ad80-950c6ad06f18",
   "metadata": {},
   "outputs": [],
   "source": [
    "import networkx as nx\n",
    "\n",
    "def neighbors(src, vertices):\n",
    "    x, y = src\n",
    "    candidates = set([(x+1, y), (x-1, y), (x, y+1), (x, y-1)])\n",
    "    candidates = candidates & vertices\n",
    "    return [v for v in candidates if topo[v] == topo[src] + 1]\n",
    "\n",
    "def reachable(start, neighbors, topo):\n",
    "    on_map = [n for n in neighbors if valid(n, topo)]\n",
    "    return \n",
    "\n",
    "def valid(pos, topo):\n",
    "    H, W = topo.shape\n",
    "    return (0 <= pos[0] < H) & (0 <= pos[1] < W)\n",
    "\n",
    "def setup_graph(topo):\n",
    "\n",
    "    G = nx.DiGraph()\n",
    "\n",
    "    nnx, nny = topo.shape\n",
    "    vertices = set([(x, y) for x in range(nnx) for y in range(nny)])\n",
    "\n",
    "    G.add_node(v for v in vertices)\n",
    "\n",
    "    for v in vertices:\n",
    "        for u in neighbors(v, vertices):\n",
    "            G.add_edge(v, u)\n",
    "            \n",
    "    return G"
   ]
  },
  {
   "cell_type": "code",
   "execution_count": null,
   "id": "c3c3885a-82d1-4efa-b92e-1db023e84ada",
   "metadata": {},
   "outputs": [],
   "source": [
    "G = setup_graph(topo)"
   ]
  },
  {
   "cell_type": "code",
   "execution_count": null,
   "id": "a0dc8b9e-999e-4449-9ae2-405152b6660b",
   "metadata": {},
   "outputs": [],
   "source": [
    "puzzle.answer_a = sum(1 for start in starts for end in ends if nx.has_path(G, start, end))"
   ]
  },
  {
   "cell_type": "markdown",
   "id": "0d3ac075",
   "metadata": {},
   "source": [
    "### Part 2"
   ]
  },
  {
   "cell_type": "code",
   "execution_count": null,
   "id": "da879bbc-f755-4390-9796-2537fa031f3e",
   "metadata": {},
   "outputs": [],
   "source": [
    "puzzle.answer_b = sum(len([p for p in nx.all_shortest_paths(G, start, end)]) for start in starts for end in ends if nx.has_path(G, start, end))"
   ]
  },
  {
   "cell_type": "markdown",
   "id": "3b5f93e6",
   "metadata": {},
   "source": [
    "## Day 9\n",
    "https://adventofcode.com/2024/day/9\n",
    "### Part 1"
   ]
  },
  {
   "cell_type": "code",
   "execution_count": null,
   "id": "2466da91",
   "metadata": {},
   "outputs": [],
   "source": [
    "puzzle = Puzzle(2024, 9)\n",
    "line = puzzle.input_data"
   ]
  },
  {
   "cell_type": "code",
   "execution_count": null,
   "id": "7d2e8796-d19c-4889-a321-5b028865b9d7",
   "metadata": {},
   "outputs": [],
   "source": [
    "from collections import deque\n",
    "\n",
    "blocks = deque([(int(b), idx) for idx, b in enumerate(line[::2])])\n",
    "spaces = deque([int(s) for s in line[1::2]])"
   ]
  },
  {
   "cell_type": "code",
   "execution_count": null,
   "id": "211ab689-dbfe-487c-ab3a-85e55e24003a",
   "metadata": {},
   "outputs": [],
   "source": [
    "def stack_left(block, csum, count, bid):\n",
    "    for cid in range(block):\n",
    "        csum += count*bid\n",
    "        count += 1\n",
    "    return csum, count\n",
    "\n",
    "count = 0\n",
    "csum = 0\n",
    "\n",
    "while len(blocks) > 0:\n",
    "    block, bid = blocks.popleft()\n",
    "    csum, count = stack_left(block, csum, count, bid)\n",
    "    \n",
    "    if len(spaces) > 0 and len(blocks) > 0:\n",
    "        space = spaces.popleft()\n",
    "        \n",
    "        block, bid = blocks.pop()\n",
    "        \n",
    "        while(True):\n",
    "            if space > block:\n",
    "                csum, count = stack_left(block, csum, count, bid)\n",
    "                space -= block\n",
    "                block, bid = blocks.pop()\n",
    "            elif block > space:\n",
    "                csum, count = stack_left(space, csum, count, bid)\n",
    "                blocks.append((block - space, bid))\n",
    "                break\n",
    "            else:\n",
    "                csum, count = stack_left(block, csum, count, bid)\n",
    "                break"
   ]
  },
  {
   "cell_type": "code",
   "execution_count": null,
   "id": "fa822eee-204b-46bb-9156-e0f9abcf2657",
   "metadata": {},
   "outputs": [],
   "source": [
    "puzzle.answer_a = csum"
   ]
  },
  {
   "cell_type": "markdown",
   "id": "1e4a5bce",
   "metadata": {},
   "source": [
    "### Part 2"
   ]
  },
  {
   "cell_type": "code",
   "execution_count": null,
   "id": "607b114a-fe24-4e31-b3ac-0c79b72c8b46",
   "metadata": {},
   "outputs": [],
   "source": [
    "class Block:\n",
    "\n",
    "    def __init__(self, length, offset, id, processed=False):\n",
    "        self.length = length\n",
    "        self.offset = offset\n",
    "        self.id = id\n",
    "        self.processed = processed\n",
    "\n",
    "    def process(self):\n",
    "        self.processed = True\n",
    "        return sum(self.id*(self.offset+j) for j in range(self.length))\n",
    "\n",
    "class Space:\n",
    "\n",
    "    def __init__(self, length, offset):\n",
    "        self.length = length\n",
    "        self.offset = offset\n",
    "\n",
    "blocks = []\n",
    "spaces = []\n",
    "\n",
    "count = 0\n",
    "for idx, elem in enumerate(line):\n",
    "    if idx % 2 == 0:\n",
    "        blocks.append(Block(int(elem), count, idx // 2))\n",
    "    else:\n",
    "        spaces.append(Space(int(elem), count))\n",
    "    count += int(elem)"
   ]
  },
  {
   "cell_type": "code",
   "execution_count": null,
   "id": "9add052b-37fa-49bd-a9d6-9618f7f730d5",
   "metadata": {},
   "outputs": [],
   "source": [
    "def move_block():\n",
    "    for block in blocks[::-1]:\n",
    "        if block.processed:\n",
    "            continue\n",
    "        for space in spaces:\n",
    "            if space.offset > block.offset:\n",
    "                break\n",
    "            if space.length >= block.length:\n",
    "                block.offset = space.offset\n",
    "                csum = block.process()\n",
    "                block_moved = True\n",
    "                space.length -= block.length\n",
    "                space.offset += block.length\n",
    "                return True, csum\n",
    "    return False, 0"
   ]
  },
  {
   "cell_type": "code",
   "execution_count": null,
   "id": "4fdef96a-c2e7-460e-93f5-3eb6d1cfce6d",
   "metadata": {},
   "outputs": [],
   "source": [
    "checksum = 0\n",
    "while True:\n",
    "    block_moved, csum = move_block()\n",
    "    checksum += csum\n",
    "    if not block_moved:\n",
    "        break\n",
    "\n",
    "for block in blocks:\n",
    "    if not block.processed:\n",
    "        checksum += block.process()"
   ]
  },
  {
   "cell_type": "code",
   "execution_count": null,
   "id": "fce8c2ba-a722-49a7-a8ed-359b80c54900",
   "metadata": {},
   "outputs": [],
   "source": [
    "puzzle.answer_b = checksum"
   ]
  },
  {
   "cell_type": "markdown",
   "id": "32daee6b",
   "metadata": {},
   "source": [
    "## Day 8\n",
    "https://adventofcode.com/2024/day/8\n",
    "### Part 1"
   ]
  },
  {
   "cell_type": "code",
   "execution_count": null,
   "id": "3ae74ba8",
   "metadata": {},
   "outputs": [],
   "source": [
    "puzzle = Puzzle(2024, 8)\n",
    "lines = puzzle.input_data.split('\\n')"
   ]
  },
  {
   "cell_type": "code",
   "execution_count": null,
   "id": "b997afd7-8cd8-4748-aaa7-ed488597f785",
   "metadata": {},
   "outputs": [],
   "source": [
    "from collections import defaultdict\n",
    "\n",
    "beacons = defaultdict(list)\n",
    "\n",
    "H, W = len(lines), len(lines[0])\n",
    "for y, line in enumerate(lines):\n",
    "    for x, char in enumerate(line):\n",
    "        if char != '.':\n",
    "            beacons[char].append((x, y))"
   ]
  },
  {
   "cell_type": "code",
   "execution_count": null,
   "id": "2335fbcc-47d8-4d0e-9c87-8f9a8b755181",
   "metadata": {},
   "outputs": [],
   "source": [
    "from itertools import combinations\n",
    "\n",
    "antinodes = set()\n",
    "\n",
    "for antennas in beacons.values():\n",
    "    for b1, b2 in combinations(antennas, 2):\n",
    "        a1, a2 = create_antinodes(b1, b2)\n",
    "        if check_antinode(a1):\n",
    "            antinodes.add(a1)\n",
    "        if check_antinode(a2):\n",
    "            antinodes.add(a2)"
   ]
  },
  {
   "cell_type": "code",
   "execution_count": null,
   "id": "857552a7-eb82-4c9e-b023-97b7e32ad641",
   "metadata": {},
   "outputs": [],
   "source": [
    "def create_antinodes(b1, b2):\n",
    "    x1, y1 = b1\n",
    "    x2, y2 = b2\n",
    "    dx, dy = x2 - x1, y2 - y1\n",
    "    return ((x1 - dx, y1 - dy), (x2 + dx, y2 + dy))\n",
    "\n",
    "def check_antinode(anode):\n",
    "    x, y = anode\n",
    "    return (0 <= x < W) and (0 <= y < H) "
   ]
  },
  {
   "cell_type": "code",
   "execution_count": null,
   "id": "c2c221bd-5039-483f-a7f9-cd5cfb9f93d7",
   "metadata": {},
   "outputs": [],
   "source": [
    "puzzle.answer_a = len(antinodes)"
   ]
  },
  {
   "cell_type": "markdown",
   "id": "061785fb",
   "metadata": {},
   "source": [
    "### Part 2"
   ]
  },
  {
   "cell_type": "code",
   "execution_count": null,
   "id": "84f624bb",
   "metadata": {},
   "outputs": [],
   "source": [
    "def create_antinodes_p2(b1, b2):\n",
    "    x1, y1 = b1\n",
    "    x2, y2 = b2\n",
    "    dx, dy = x2 - x1, y2 - y1\n",
    "    # A\n",
    "    antinodes = []\n",
    "    idx = 0\n",
    "    while(True):\n",
    "        an = (x1 - idx*dx, y1 - idx*dy)\n",
    "        if check_antinode(an):\n",
    "            antinodes.append(an)\n",
    "        else:\n",
    "            break\n",
    "        idx += 1\n",
    "    idx = 0\n",
    "    while(True):\n",
    "        an = (x2 + idx*dx, y2 + idx*dy)\n",
    "        if check_antinode(an):\n",
    "            antinodes.append(an)\n",
    "        else:\n",
    "            break\n",
    "        idx += 1\n",
    "    \n",
    "    return antinodes"
   ]
  },
  {
   "cell_type": "code",
   "execution_count": null,
   "id": "0ff974f0-6be0-45a5-9eec-d702a03dbc11",
   "metadata": {},
   "outputs": [],
   "source": [
    "from itertools import combinations\n",
    "\n",
    "antinodes = set()\n",
    "\n",
    "for antennas in beacons.values():\n",
    "    for b1, b2 in combinations(antennas, 2):\n",
    "        candidates = create_antinodes_p2(b1, b2)\n",
    "        for an in candidates:\n",
    "            if check_antinode(an):\n",
    "                antinodes.add(an)"
   ]
  },
  {
   "cell_type": "code",
   "execution_count": null,
   "id": "e4330b85-02c8-4643-8ac6-0d5825e84fd0",
   "metadata": {},
   "outputs": [],
   "source": [
    "puzzle.answer_b = len(antinodes)"
   ]
  },
  {
   "cell_type": "markdown",
   "id": "89cc70f5",
   "metadata": {},
   "source": [
    "### Extra"
   ]
  },
  {
   "cell_type": "markdown",
   "id": "fcd42fdd",
   "metadata": {},
   "source": [
    "## Day 7\n",
    "https://adventofcode.com/2024/day/7\n",
    "### Part 1"
   ]
  },
  {
   "cell_type": "code",
   "execution_count": null,
   "id": "c0a48b94",
   "metadata": {},
   "outputs": [],
   "source": [
    "puzzle = Puzzle(2024, 7)\n",
    "lines = puzzle.input_data.split('\\n')"
   ]
  },
  {
   "cell_type": "code",
   "execution_count": null,
   "id": "343f1d93-69f8-467d-bb9b-269a97e08b7b",
   "metadata": {},
   "outputs": [],
   "source": [
    "import re\n",
    "\n",
    "equations = [[int(nb) for nb in re.findall(r'(\\d+)', line)] for line in lines]\n",
    "\n",
    "def parse_eq(eq):\n",
    "    x, y = eq[0], eq[-1]\n",
    "    if len(eq) == 2:\n",
    "        if x == y:\n",
    "            return [True]\n",
    "        return [False]\n",
    "    else:\n",
    "        return parse_eq([x/y] + eq[1:-1]) + parse_eq([x-y] + eq[1:-1])"
   ]
  },
  {
   "cell_type": "code",
   "execution_count": null,
   "id": "3583a899-9b09-483b-b5d4-badd1dfe404a",
   "metadata": {},
   "outputs": [],
   "source": [
    "puzzle.answer_a = sum(eq[0] for eq in equations if any(parse_eq(eq)))"
   ]
  },
  {
   "cell_type": "markdown",
   "id": "18cb765f",
   "metadata": {},
   "source": [
    "### Part 2"
   ]
  },
  {
   "cell_type": "code",
   "execution_count": null,
   "id": "27aea112-32a8-46aa-bf8f-49efb1934d8e",
   "metadata": {},
   "outputs": [],
   "source": [
    "def parse_eq2(eq):\n",
    "    x, y = eq[0], eq[-1]\n",
    "    if len(eq) == 2:\n",
    "        if x == y:\n",
    "            return [True]\n",
    "        return [False]\n",
    "    else:\n",
    "        add = parse_eq2([x-y] + eq[1:-1])\n",
    "        mult = parse_eq2([round(x/y)] + eq[1:-1]) if x % y == 0 else []\n",
    "        try: # Flemme de gérer mieux xD\n",
    "            conc = parse_eq2([int(str(x)[:-len(str(y))])] + eq[1:-1]) if str(y) == str(x)[-len(str(y)):] else []\n",
    "        except:\n",
    "            conc = []\n",
    "        return add + mult + conc"
   ]
  },
  {
   "cell_type": "code",
   "execution_count": null,
   "id": "dc7c24d7-21e0-4338-9fc7-3807d7faa00e",
   "metadata": {},
   "outputs": [],
   "source": [
    "puzzle.answer_b = sum(eq[0] for eq in equations if any(parse_eq2(eq)))"
   ]
  },
  {
   "cell_type": "markdown",
   "id": "fdb1635c",
   "metadata": {},
   "source": [
    "## Day 6\n",
    "https://adventofcode.com/2024/day/6\n",
    "### Part 1"
   ]
  },
  {
   "cell_type": "code",
   "execution_count": null,
   "id": "b1de3906",
   "metadata": {},
   "outputs": [],
   "source": [
    "puzzle = Puzzle(2024, 6)\n",
    "lines = puzzle.input_data.split('\\n')"
   ]
  },
  {
   "cell_type": "code",
   "execution_count": null,
   "id": "57495d1d-ea5c-4f10-813a-661b8ad0336d",
   "metadata": {},
   "outputs": [],
   "source": [
    "from collections import defaultdict\n",
    "\n",
    "chars = defaultdict(lambda : defaultdict(lambda : 'x'))\n",
    "\n",
    "for y, line in enumerate(lines):\n",
    "    for x, char in enumerate(line):\n",
    "        if char not in {'#', '.'}:\n",
    "            chars[x][y] = '.'\n",
    "            ix, iy = (x, y)\n",
    "        else:\n",
    "            chars[x][y] = char\n",
    "\n",
    "dx, dy = (0, -1)\n",
    "px, py = ix, iy"
   ]
  },
  {
   "cell_type": "code",
   "execution_count": null,
   "id": "5b975b15-3679-4bd7-acc1-c0142894dce0",
   "metadata": {},
   "outputs": [],
   "source": [
    "def rotate(dx, dy):\n",
    "    if (dx, dy) == (0, -1):\n",
    "        return (1, 0)\n",
    "    elif (dx, dy) == (1, 0):\n",
    "        return (0, 1)\n",
    "    elif (dx, dy) == (0, 1):\n",
    "        return (-1, 0)\n",
    "    elif (dx, dy) == (-1, 0):\n",
    "        return (0, -1)\n",
    "\n",
    "visited = set()\n",
    "\n",
    "while(True):\n",
    "    visited.add((px, py))\n",
    "    nx, ny = px + dx, py + dy\n",
    "    if chars[nx][ny] == '#':\n",
    "        (dx, dy) = rotate(dx, dy)\n",
    "        nx, ny = px, py\n",
    "    elif chars[nx][ny] == 'x':\n",
    "        break\n",
    "    else:\n",
    "        px, py = (nx, ny)"
   ]
  },
  {
   "cell_type": "code",
   "execution_count": null,
   "id": "d992adac-2152-457c-b038-9853baf1aac4",
   "metadata": {},
   "outputs": [],
   "source": [
    "puzzle.answer_a = len(visited)"
   ]
  },
  {
   "cell_type": "markdown",
   "id": "85992930",
   "metadata": {},
   "source": [
    "### Part 2"
   ]
  },
  {
   "cell_type": "code",
   "execution_count": null,
   "id": "2f7cf08c-b08b-4228-b3b2-c99a7e9c8c7e",
   "metadata": {},
   "outputs": [],
   "source": [
    "cand_pos = visited - {(ix, iy)}"
   ]
  },
  {
   "cell_type": "code",
   "execution_count": null,
   "id": "b83095dd-429d-4b36-b97a-b69c848ad353",
   "metadata": {},
   "outputs": [],
   "source": [
    "count = 0\n",
    "for ox, oy in cand_pos:\n",
    "    chars[ox][oy] = '#'\n",
    "\n",
    "    dx, dy = (0, -1)\n",
    "    px, py = ix, iy\n",
    "    \n",
    "    visited = set()\n",
    "\n",
    "    while(True):\n",
    "        visited.add((px, py, dx, dy))\n",
    "        nx, ny = px + dx, py + dy\n",
    "        if (nx, ny, dx, dy) in visited:\n",
    "            count += 1\n",
    "            break\n",
    "        if chars[nx][ny] == '#':\n",
    "            (dx, dy) = rotate(dx, dy)\n",
    "            nx, ny = px, py\n",
    "        elif chars[nx][ny] == 'x':\n",
    "            break\n",
    "        else:\n",
    "            px, py = (nx, ny)\n",
    "\n",
    "    chars[ox][oy] = '.'"
   ]
  },
  {
   "cell_type": "code",
   "execution_count": null,
   "id": "f4ce2b08-5936-4106-bd46-853d3e19b01f",
   "metadata": {},
   "outputs": [],
   "source": [
    "puzzle.answer_b = count"
   ]
  },
  {
   "cell_type": "markdown",
   "id": "cb23cbc0",
   "metadata": {},
   "source": [
    "## Day 5\n",
    "https://adventofcode.com/2024/day/5\n",
    "### Part 1"
   ]
  },
  {
   "cell_type": "code",
   "execution_count": null,
   "id": "026b1a0f",
   "metadata": {},
   "outputs": [],
   "source": [
    "puzzle = Puzzle(2024, 5)\n",
    "parts = puzzle.input_data.split('\\n\\n')"
   ]
  },
  {
   "cell_type": "code",
   "execution_count": null,
   "id": "85a6eddd-c8ea-4ff5-b6ba-39b5541d9ef8",
   "metadata": {},
   "outputs": [],
   "source": [
    "constraints = [elem.split('|') for elem in parts[0].split('\\n')]\n",
    "updates = [{val: idx for idx, val in enumerate(elem.split(','))} for elem in parts[1].split('\\n')]"
   ]
  },
  {
   "cell_type": "code",
   "execution_count": null,
   "id": "7721a20b-f5b2-4505-acd4-afc7b9458ef8",
   "metadata": {},
   "outputs": [],
   "source": [
    "sum = 0\n",
    "for update in updates:\n",
    "    if all(update[a] < update[b] for a, b in constraints if a in update and b in update):\n",
    "        sum += int(list(update.keys())[int((len(update)-1)/2)])"
   ]
  },
  {
   "cell_type": "code",
   "execution_count": null,
   "id": "653ebb96-0ea2-4de9-8153-981e6a65cbb9",
   "metadata": {},
   "outputs": [],
   "source": [
    "puzzle.answer_a = sum"
   ]
  },
  {
   "cell_type": "markdown",
   "id": "b108d9e0",
   "metadata": {},
   "source": [
    "### Part 2"
   ]
  },
  {
   "cell_type": "code",
   "execution_count": null,
   "id": "49d4bc9b-1659-407b-b917-fc4f627bf75c",
   "metadata": {},
   "outputs": [],
   "source": [
    "from collections import Counter\n",
    "\n",
    "sum = 0\n",
    "\n",
    "for update in updates:\n",
    "    if not all(update[a] < update[b] for a, b in constraints if a in update and b in update):\n",
    "        sum += int(list(key for key, val in Counter([a for a, b in constraints if a in update and b in update]).most_common())[int((len(update))/2)])"
   ]
  },
  {
   "cell_type": "code",
   "execution_count": null,
   "id": "13228165-ea56-4933-bd32-8d005120096a",
   "metadata": {},
   "outputs": [],
   "source": [
    "puzzle.answer_b = sum"
   ]
  },
  {
   "cell_type": "markdown",
   "id": "9008ba61",
   "metadata": {},
   "source": [
    "## Day 4\n",
    "https://adventofcode.com/2024/day/4\n",
    "### Part 1"
   ]
  },
  {
   "cell_type": "code",
   "execution_count": null,
   "id": "ccf9156c",
   "metadata": {},
   "outputs": [],
   "source": [
    "puzzle = Puzzle(2024, 4)\n",
    "lines = puzzle.input_data.split('\\n')"
   ]
  },
  {
   "cell_type": "code",
   "execution_count": null,
   "id": "11fb89c8-fdf8-4df8-84e9-02ef86679418",
   "metadata": {},
   "outputs": [],
   "source": [
    "from collections import defaultdict\n",
    "\n",
    "chars = defaultdict(lambda : defaultdict(lambda : '.'))\n",
    "\n",
    "for y, line in enumerate(lines):\n",
    "    for x, char in enumerate(line):\n",
    "        chars[x][y] = char"
   ]
  },
  {
   "cell_type": "code",
   "execution_count": null,
   "id": "873d23ae-635d-49c5-bca3-73dc30c5d090",
   "metadata": {},
   "outputs": [],
   "source": [
    "def check_pos(x, y):\n",
    "    count = 0\n",
    "    count+= int(all(chars[x+delta][y] == target for delta, target in enumerate('XMAS')))\n",
    "    count+= int(all(chars[x-delta][y] == target for delta, target in enumerate('XMAS')))\n",
    "    count+= int(all(chars[x][y+delta] == target for delta, target in enumerate('XMAS')))\n",
    "    count+= int(all(chars[x][y-delta] == target for delta, target in enumerate('XMAS')))\n",
    "    count+= int(all(chars[x+delta][y+delta] == target for delta, target in enumerate('XMAS')))\n",
    "    count+= int(all(chars[x+delta][y-delta] == target for delta, target in enumerate('XMAS')))\n",
    "    count+= int(all(chars[x-delta][y+delta] == target for delta, target in enumerate('XMAS')))\n",
    "    count+= int(all(chars[x-delta][y-delta] == target for delta, target in enumerate('XMAS')))\n",
    "    return count\n",
    "\n",
    "count = 0\n",
    "for y in range(len(lines)):\n",
    "    for x in range(len(lines[0])):\n",
    "        count += check_pos(x, y)"
   ]
  },
  {
   "cell_type": "code",
   "execution_count": null,
   "id": "8c1194d6-3cba-4eef-994f-40da4e201eb3",
   "metadata": {},
   "outputs": [],
   "source": [
    "puzzle.answer_a = count"
   ]
  },
  {
   "cell_type": "markdown",
   "id": "36669534",
   "metadata": {},
   "source": [
    "### Part 2"
   ]
  },
  {
   "cell_type": "code",
   "execution_count": null,
   "id": "91900e89-c93b-4af5-b215-8626b5d552bf",
   "metadata": {},
   "outputs": [],
   "source": [
    "def check_pos2(x, y):\n",
    "    count = 0\n",
    "    count+= int(all(chars[x+(d-1)][y+(d-1)] == t and chars[x+(d-1)][y-(d-1)] == t for d, t in enumerate('MAS')))\n",
    "    count+= int(all(chars[x+(d-1)][y+(d-1)] == t and chars[x-(d-1)][y+(d-1)] == t for d, t in enumerate('MAS')))\n",
    "    count+= int(all(chars[x-(d-1)][y-(d-1)] == t and chars[x+(d-1)][y-(d-1)] == t for d, t in enumerate('MAS')))\n",
    "    count+= int(all(chars[x-(d-1)][y-(d-1)] == t and chars[x-(d-1)][y+(d-1)] == t for d, t in enumerate('MAS')))\n",
    "    return count"
   ]
  },
  {
   "cell_type": "code",
   "execution_count": null,
   "id": "e02b5e59-38c5-462e-a723-03447bfc426f",
   "metadata": {},
   "outputs": [],
   "source": [
    "count = 0\n",
    "for y in range(len(lines)):\n",
    "    for x in range(len(lines[0])):\n",
    "        count += check_pos2(x, y)"
   ]
  },
  {
   "cell_type": "code",
   "execution_count": null,
   "id": "6e74c405",
   "metadata": {},
   "outputs": [],
   "source": [
    "puzzle.answer_b = count"
   ]
  },
  {
   "cell_type": "markdown",
   "id": "c00d46e9",
   "metadata": {},
   "source": [
    "## Day 3\n",
    "https://adventofcode.com/2024/day/3\n",
    "### Part 1"
   ]
  },
  {
   "cell_type": "code",
   "execution_count": null,
   "id": "4e5e73b9",
   "metadata": {},
   "outputs": [],
   "source": [
    "puzzle = Puzzle(2024, 3)\n",
    "lines = puzzle.input_data"
   ]
  },
  {
   "cell_type": "code",
   "execution_count": null,
   "id": "46f8344f-da6e-4f1d-a76f-ee537f6c1364",
   "metadata": {},
   "outputs": [],
   "source": [
    "import re\n",
    "\n",
    "puzzle.answer_a = sum(int(a)*int(b) for a,b in re.findall(r\"mul\\((\\d+),(\\d+)\\)\", lines))"
   ]
  },
  {
   "cell_type": "markdown",
   "id": "f2b627b4",
   "metadata": {},
   "source": [
    "### Part 2"
   ]
  },
  {
   "cell_type": "code",
   "execution_count": null,
   "id": "a00f5b9a-ed7d-44b9-a1bb-192c5340e926",
   "metadata": {},
   "outputs": [],
   "source": [
    "acc = 0\n",
    "do_acc = True\n",
    "\n",
    "for do, dont, x, y in re.findall(r\"(do\\(\\))|(don't\\(\\))|mul\\((\\d+),(\\d+)\\)\", lines):\n",
    "    if do:\n",
    "        do_acc = True\n",
    "    elif dont:\n",
    "        do_acc = False\n",
    "    elif do_acc:\n",
    "        acc += int(x)*int(y)"
   ]
  },
  {
   "cell_type": "code",
   "execution_count": null,
   "id": "71d8ff59",
   "metadata": {},
   "outputs": [],
   "source": [
    "puzzle.answer_b = acc"
   ]
  },
  {
   "cell_type": "markdown",
   "id": "9b910d15",
   "metadata": {},
   "source": [
    "## Day 2\n",
    "https://adventofcode.com/2024/day/2\n",
    "### Part 1"
   ]
  },
  {
   "cell_type": "code",
   "execution_count": null,
   "id": "84fdf174",
   "metadata": {},
   "outputs": [],
   "source": [
    "puzzle = Puzzle(2024, 2)\n",
    "lines = puzzle.input_data.split('\\n')"
   ]
  },
  {
   "cell_type": "code",
   "execution_count": null,
   "id": "7527cca1-3af5-4aa8-b578-ca0351dade08",
   "metadata": {},
   "outputs": [],
   "source": [
    "levels = [[int(nb) for nb in line.split() ] for line in lines]\n",
    "\n",
    "def safety_check(signal):\n",
    "    diff = [y - x for x, y in zip(signal[:-1], signal[1:])]\n",
    "    sdiff = sorted(set(diff))\n",
    "    \n",
    "    min, max = sdiff[0], sdiff[-1]\n",
    "    if min >= 1 and max <= 3 or min >= -3 and max <= -1:\n",
    "        return True\n",
    "    return False"
   ]
  },
  {
   "cell_type": "code",
   "execution_count": null,
   "id": "5029253b-c78f-4b65-893a-b0cb53db1cbf",
   "metadata": {},
   "outputs": [],
   "source": [
    "puzzle.answer_a = len([signal for signal in levels if safety_check(signal)])"
   ]
  },
  {
   "cell_type": "markdown",
   "id": "1876ec15",
   "metadata": {},
   "source": [
    "### Part 2"
   ]
  },
  {
   "cell_type": "code",
   "execution_count": null,
   "id": "1e749cb9",
   "metadata": {},
   "outputs": [],
   "source": [
    "puzzle.answer_b = len([signal for signal in levels if any([safety_check(signal[:idx] + signal[idx+1:]) for idx in range(len(signal))])])"
   ]
  },
  {
   "cell_type": "markdown",
   "id": "637b7e39",
   "metadata": {},
   "source": [
    "## Day 1\n",
    "https://adventofcode.com/2024/day/1\n",
    "### Part 1"
   ]
  },
  {
   "cell_type": "code",
   "execution_count": null,
   "id": "75254cc5",
   "metadata": {},
   "outputs": [],
   "source": [
    "puzzle = Puzzle(2024, 1)"
   ]
  },
  {
   "cell_type": "code",
   "execution_count": null,
   "id": "497dce6f-7d69-49c3-b8df-3dc4e067be57",
   "metadata": {},
   "outputs": [],
   "source": [
    "lines = puzzle.input_data.split('\\n')\n",
    "numbers = [l.split() for l in lines]\n",
    "num_left = sorted([int(nb[0]) for nb in numbers])\n",
    "num_right = sorted([int(nb[1]) for nb in numbers])"
   ]
  },
  {
   "cell_type": "code",
   "execution_count": null,
   "id": "a0dd8849-2530-4829-8cb7-16bfef0005bb",
   "metadata": {},
   "outputs": [],
   "source": [
    "puzzle.answer_a = sum(abs(nr - nl) for nl, nr in zip(num_left, num_right))"
   ]
  },
  {
   "cell_type": "markdown",
   "id": "54aaddfe",
   "metadata": {},
   "source": [
    "### Part 2"
   ]
  },
  {
   "cell_type": "code",
   "execution_count": null,
   "id": "0c172ea5",
   "metadata": {},
   "outputs": [],
   "source": [
    "from collections import Counter\n",
    "\n",
    "count = Counter(num_right)"
   ]
  },
  {
   "cell_type": "code",
   "execution_count": null,
   "id": "41e63f27-c2eb-4ce6-aa1d-7a5c76e92acf",
   "metadata": {},
   "outputs": [],
   "source": [
    "puzzle.answer_b = sum(nb*count[nb] for nb in num_left)"
   ]
  }
 ],
 "metadata": {
  "kernelspec": {
   "display_name": "Python 3 (ipykernel)",
   "language": "python",
   "name": "python3"
  },
  "language_info": {
   "codemirror_mode": {
    "name": "ipython",
    "version": 3
   },
   "file_extension": ".py",
   "mimetype": "text/x-python",
   "name": "python",
   "nbconvert_exporter": "python",
   "pygments_lexer": "ipython3",
   "version": "3.11.9"
  },
  "toc": {
   "base_numbering": 1,
   "nav_menu": {},
   "number_sections": true,
   "sideBar": true,
   "skip_h1_title": false,
   "title_cell": "Table of Contents",
   "title_sidebar": "Contents",
   "toc_cell": false,
   "toc_position": {},
   "toc_section_display": true,
   "toc_window_display": false
  }
 },
 "nbformat": 4,
 "nbformat_minor": 5
}
